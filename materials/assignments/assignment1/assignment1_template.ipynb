{
 "cells": [
  {
   "cell_type": "markdown",
   "metadata": {},
   "source": [
    "# COM6018 - Assignment 1\n",
    "\n",
    "Student Username: ` acp24tkj ` (Tara J.)\n",
    "\n",
    "## Analysing Carbon Emissions Data\n",
    "\n",
    "Before attempting the assignment make sure that you have read the accompanying assignment notes document carefully. This explains important details about what is expected and how you will be assessed."
   ]
  },
  {
   "cell_type": "markdown",
   "metadata": {},
   "source": [
    "## Loading the data\n",
    "\n",
    "The data is being read from the file `owid-co2-data.csv` which you must download and store in the same directory as this notebook. Please leave the cell below unchanged. "
   ]
  },
  {
   "cell_type": "code",
   "execution_count": 14,
   "metadata": {},
   "outputs": [],
   "source": [
    "import pandas as pd\n",
    "\n",
    "df = pd.read_csv('owid-co2-data.csv')"
   ]
  },
  {
   "cell_type": "markdown",
   "metadata": {},
   "source": [
    "Add any further imports that your notebook needs in the cell below. If you are not using any then simply leave the cell blank. Remember, you are only allowed to use modules from the standard Python library, plus pandas, numpy, matplotlib and seaborn."
   ]
  },
  {
   "cell_type": "code",
   "execution_count": 15,
   "metadata": {},
   "outputs": [],
   "source": [
    "# SOLUTION\n",
    "import matplotlib as plt\n",
    "import seaborn as sns\n",
    "import numpy as np\n",
    "import pandas as pd\n",
    "# Add any further imports that your notebook needs in this cell."
   ]
  },
  {
   "cell_type": "markdown",
   "metadata": {},
   "source": [
    "## Q1. The growth of CO<sub>2</sub> emissions\n",
    "\n",
    "*How have CO<sub>2</sub> emissions grown over time?*\n",
    "\n",
    "Consider the six continents: Africa, Asia, Europe, North America, Oceania and South America. Make a figure to show: i) how the total annual CO<sub>2</sub> emissions of each continent varied over the years 1950 to 2021. ii) How has the per capita CO<sub>2</sub> emissions (i.e., the emissions per person) of these continents varied over the same period.\n",
    "\n",
    "Comment on how the contribution of each continent is different when measured in terms of total emissions and per capita emissions.\n",
    "\n",
    "(Add your solution in the cells provided below.)"
   ]
  },
  {
   "cell_type": "code",
   "execution_count": 21,
   "metadata": {},
   "outputs": [
    {
     "data": {
      "text/plain": [
       "array(['Afghanistan', 'Africa', 'Africa (GCP)', 'Albania', 'Algeria',\n",
       "       'Andorra', 'Angola', 'Anguilla', 'Antarctica',\n",
       "       'Antigua and Barbuda', 'Argentina', 'Armenia', 'Aruba', 'Asia',\n",
       "       'Asia (GCP)', 'Asia (excl. China and India)', 'Australia',\n",
       "       'Austria', 'Azerbaijan', 'Bahamas', 'Bahrain', 'Bangladesh',\n",
       "       'Barbados', 'Belarus', 'Belgium', 'Belize', 'Benin', 'Bermuda',\n",
       "       'Bhutan', 'Bolivia', 'Bonaire Sint Eustatius and Saba',\n",
       "       'Bosnia and Herzegovina', 'Botswana', 'Brazil',\n",
       "       'British Virgin Islands', 'Brunei', 'Bulgaria', 'Burkina Faso',\n",
       "       'Burundi', 'Cambodia', 'Cameroon', 'Canada', 'Cape Verde',\n",
       "       'Central African Republic', 'Central America (GCP)', 'Chad',\n",
       "       'Chile', 'China', 'Christmas Island', 'Colombia', 'Comoros',\n",
       "       'Congo', 'Cook Islands', 'Costa Rica', \"Cote d'Ivoire\", 'Croatia',\n",
       "       'Cuba', 'Curacao', 'Cyprus', 'Czechia',\n",
       "       'Democratic Republic of Congo', 'Denmark', 'Djibouti', 'Dominica',\n",
       "       'Dominican Republic', 'East Timor', 'Ecuador', 'Egypt',\n",
       "       'El Salvador', 'Equatorial Guinea', 'Eritrea', 'Estonia',\n",
       "       'Eswatini', 'Ethiopia', 'Europe', 'Europe (GCP)',\n",
       "       'Europe (excl. EU-27)', 'Europe (excl. EU-28)',\n",
       "       'European Union (27)', 'European Union (28)', 'Faroe Islands',\n",
       "       'Fiji', 'Finland', 'France', 'French Polynesia', 'Gabon', 'Gambia',\n",
       "       'Georgia', 'Germany', 'Ghana', 'Greece', 'Greenland', 'Grenada',\n",
       "       'Guatemala', 'Guinea', 'Guinea-Bissau', 'Guyana', 'Haiti',\n",
       "       'High-income countries', 'Honduras', 'Hong Kong', 'Hungary',\n",
       "       'Iceland', 'India', 'Indonesia', 'International aviation',\n",
       "       'International shipping', 'International transport', 'Iran',\n",
       "       'Iraq', 'Ireland', 'Israel', 'Italy', 'Jamaica', 'Japan', 'Jordan',\n",
       "       'Kazakhstan', 'Kenya', 'Kiribati', 'Kosovo', 'Kuwait',\n",
       "       'Kuwaiti Oil Fires', 'Kuwaiti Oil Fires (GCP)', 'Kyrgyzstan',\n",
       "       'Laos', 'Latvia', 'Least developed countries (Jones et al.)',\n",
       "       'Lebanon', 'Leeward Islands', 'Leeward Islands (GCP)', 'Lesotho',\n",
       "       'Liberia', 'Libya', 'Liechtenstein', 'Lithuania',\n",
       "       'Low-income countries', 'Lower-middle-income countries',\n",
       "       'Luxembourg', 'Macao', 'Madagascar', 'Malawi', 'Malaysia',\n",
       "       'Maldives', 'Mali', 'Malta', 'Marshall Islands', 'Mauritania',\n",
       "       'Mauritius', 'Mexico', 'Micronesia (country)', 'Middle East (GCP)',\n",
       "       'Moldova', 'Monaco', 'Mongolia', 'Montenegro', 'Montserrat',\n",
       "       'Morocco', 'Mozambique', 'Myanmar', 'Namibia', 'Nauru', 'Nepal',\n",
       "       'Netherlands', 'New Caledonia', 'New Zealand', 'Nicaragua',\n",
       "       'Niger', 'Nigeria', 'Niue', 'Non-OECD (GCP)', 'North America',\n",
       "       'North America (GCP)', 'North America (excl. USA)', 'North Korea',\n",
       "       'North Macedonia', 'Norway', 'OECD (GCP)', 'OECD (Jones et al.)',\n",
       "       'Oceania', 'Oceania (GCP)', 'Oman', 'Pakistan', 'Palau',\n",
       "       'Palestine', 'Panama', 'Panama Canal Zone',\n",
       "       'Panama Canal Zone (GCP)', 'Papua New Guinea', 'Paraguay', 'Peru',\n",
       "       'Philippines', 'Poland', 'Portugal', 'Qatar', 'Romania', 'Russia',\n",
       "       'Rwanda', 'Ryukyu Islands', 'Ryukyu Islands (GCP)', 'Saint Helena',\n",
       "       'Saint Kitts and Nevis', 'Saint Lucia',\n",
       "       'Saint Pierre and Miquelon', 'Saint Vincent and the Grenadines',\n",
       "       'Samoa', 'San Marino', 'Sao Tome and Principe', 'Saudi Arabia',\n",
       "       'Senegal', 'Serbia', 'Seychelles', 'Sierra Leone', 'Singapore',\n",
       "       'Sint Maarten (Dutch part)', 'Slovakia', 'Slovenia',\n",
       "       'Solomon Islands', 'Somalia', 'South Africa', 'South America',\n",
       "       'South America (GCP)', 'South Korea', 'South Sudan', 'Spain',\n",
       "       'Sri Lanka', 'St. Kitts-Nevis-Anguilla',\n",
       "       'St. Kitts-Nevis-Anguilla (GCP)', 'Sudan', 'Suriname', 'Sweden',\n",
       "       'Switzerland', 'Syria', 'Taiwan', 'Tajikistan', 'Tanzania',\n",
       "       'Thailand', 'Togo', 'Tonga', 'Trinidad and Tobago', 'Tunisia',\n",
       "       'Turkey', 'Turkmenistan', 'Turks and Caicos Islands', 'Tuvalu',\n",
       "       'Uganda', 'Ukraine', 'United Arab Emirates', 'United Kingdom',\n",
       "       'United States', 'Upper-middle-income countries', 'Uruguay',\n",
       "       'Uzbekistan', 'Vanuatu', 'Vatican', 'Venezuela', 'Vietnam',\n",
       "       'Wallis and Futuna', 'World', 'Yemen', 'Zambia', 'Zimbabwe'],\n",
       "      dtype=object)"
      ]
     },
     "execution_count": 21,
     "metadata": {},
     "output_type": "execute_result"
    }
   ],
   "source": [
    "df['country'].unique() # 261\n",
    "# Get rid of records with missing values."
   ]
  },
  {
   "cell_type": "code",
   "execution_count": 19,
   "metadata": {},
   "outputs": [
    {
     "data": {
      "text/plain": [
       "Index(['country', 'year', 'iso_code', 'population', 'gdp', 'cement_co2',\n",
       "       'cement_co2_per_capita', 'co2', 'co2_growth_abs', 'co2_growth_prct',\n",
       "       'co2_including_luc', 'co2_including_luc_growth_abs',\n",
       "       'co2_including_luc_growth_prct', 'co2_including_luc_per_capita',\n",
       "       'co2_including_luc_per_gdp', 'co2_including_luc_per_unit_energy',\n",
       "       'co2_per_capita', 'co2_per_gdp', 'co2_per_unit_energy', 'coal_co2',\n",
       "       'coal_co2_per_capita', 'consumption_co2', 'consumption_co2_per_capita',\n",
       "       'consumption_co2_per_gdp', 'cumulative_cement_co2', 'cumulative_co2',\n",
       "       'cumulative_co2_including_luc', 'cumulative_coal_co2',\n",
       "       'cumulative_flaring_co2', 'cumulative_gas_co2', 'cumulative_luc_co2',\n",
       "       'cumulative_oil_co2', 'cumulative_other_co2', 'energy_per_capita',\n",
       "       'energy_per_gdp', 'flaring_co2', 'flaring_co2_per_capita', 'gas_co2',\n",
       "       'gas_co2_per_capita', 'ghg_excluding_lucf_per_capita', 'ghg_per_capita',\n",
       "       'land_use_change_co2', 'land_use_change_co2_per_capita', 'methane',\n",
       "       'methane_per_capita', 'nitrous_oxide', 'nitrous_oxide_per_capita',\n",
       "       'oil_co2', 'oil_co2_per_capita', 'other_co2_per_capita',\n",
       "       'other_industry_co2', 'primary_energy_consumption',\n",
       "       'share_global_cement_co2', 'share_global_co2',\n",
       "       'share_global_co2_including_luc', 'share_global_coal_co2',\n",
       "       'share_global_cumulative_cement_co2', 'share_global_cumulative_co2',\n",
       "       'share_global_cumulative_co2_including_luc',\n",
       "       'share_global_cumulative_coal_co2',\n",
       "       'share_global_cumulative_flaring_co2',\n",
       "       'share_global_cumulative_gas_co2', 'share_global_cumulative_luc_co2',\n",
       "       'share_global_cumulative_oil_co2', 'share_global_cumulative_other_co2',\n",
       "       'share_global_flaring_co2', 'share_global_gas_co2',\n",
       "       'share_global_luc_co2', 'share_global_oil_co2',\n",
       "       'share_global_other_co2', 'share_of_temperature_change_from_ghg',\n",
       "       'temperature_change_from_ch4', 'temperature_change_from_co2',\n",
       "       'temperature_change_from_ghg', 'temperature_change_from_n2o',\n",
       "       'total_ghg', 'total_ghg_excluding_lucf', 'trade_co2',\n",
       "       'trade_co2_share'],\n",
       "      dtype='object')"
      ]
     },
     "execution_count": 19,
     "metadata": {},
     "output_type": "execute_result"
    }
   ],
   "source": [
    "#TODO: Delete debugging cell before submission\n",
    "df.columns\n",
    "\n",
    "africa = []\n",
    "asia = []\n",
    "europe = [] # 51 - given\n",
    "america_n = []\n",
    "oceania = []\n",
    "america_s = []\n",
    "\n"
   ]
  },
  {
   "cell_type": "code",
   "execution_count": 9,
   "metadata": {},
   "outputs": [],
   "source": [
    "# ADD YOUR CODE HERE. THE CODE SHOULD PRODUCE A SINGLE FIGURE.\n",
    "# Uwaga: Need to take care of the units mentioned in the other file.\n",
    "#TODO create lists of countries included in a continent\n",
    "#TODO take the slice of df from the years 1950 to 2021\n",
    "#TODO create a figure with 2 plots using fig, axes one for per capita, one for total emissions OR show both on the same plot if that does not mess up the plot too much.\n",
    "#TODO Compare and reach a conclusive observation to add to the text.\n"
   ]
  },
  {
   "cell_type": "markdown",
   "metadata": {},
   "source": [
    "# ADD YOUR ANSWER TO THE QUESTION HERE"
   ]
  },
  {
   "cell_type": "markdown",
   "metadata": {},
   "source": [
    "## Q2. The share of CO2 emissions by country over time.\n",
    "\n",
    "*Which countries have the highest CO<sub>2</sub> emissions?*\n",
    "\n",
    "Consider the five countries with the highest total CO<sub>2</sub> emissions in 2020. Make separate plots for the years 1960, 1990 and 2020 that show the share of the total world emissions that each of these countries contributed in these years.\n",
    "\n",
    "Consider the five European countries with the highest total CO<sub>2</sub> emissions in 2020. Make separate plots for the years 1960, 1990 and 2020 that show the share of the total European emissions that each of these countries contributed in these years.\n",
    "\n",
    "Do the highest global producers produce a larger or smaller proportion of the total worlds emissions in 2020 compared to 1960? Do the highest European producers produce a larger or smaller proportion of the total European emissions in 2020 compared to 1960?\n",
    "\n",
    "(Add your solution in the cells provided below.)"
   ]
  },
  {
   "cell_type": "code",
   "execution_count": 13,
   "metadata": {},
   "outputs": [],
   "source": [
    "# ADD YOUR CODE HERE. THE CODE SHOULD PRODUCE A SINGLE FIGURE.\n",
    "# Uwaga: Need to take care of the units mentioned in the other file.\n",
    "# Put the next 3 lines of code in a function for code reuse. \n",
    "# Use axes, fig \n",
    "# Make 3 pie plots showing the share of emissions for the 5 highest CO2 producing countries in 2020, then one for 1990 and another for 1960.\n",
    "# Now slice the df such that the countries consider only european countries and repeat the process above. Probably good in this case to put the code above in a function since it is being reused.\n",
    "# Answer whether the trends for the production of carbondioxide production have remained the same for its biggest producers in 1960 compared to 2020 relative to the total production in the groups that they belong.\n"
   ]
  },
  {
   "cell_type": "markdown",
   "metadata": {},
   "source": [
    "# ADD YOUR ANSWER TO THE QUESTION HERE"
   ]
  },
  {
   "cell_type": "markdown",
   "metadata": {},
   "source": [
    "## Q3. The link between GDP and CO<sub>2</sub> emissions\n",
    "\n",
    "*Do countries with high GDP always have high per capita CO<sub>2</sub> emissions.* \n",
    "\n",
    "Plot the per capita CO<sub>2</sub> emissions against the GDP per capita for each country, adjusting the area of each marker to represent the population of the country. Only include countries with a population of at leat 10 million people in 2018. Annotate significant countries on the plot, such as large countries or outliers.\n",
    "\n",
    "Compare these plots for the year 1978, 1998 and 2018. Comment on any patterns in the relationship between GDP per capita and CO₂ emissions per capita and how they may have changed over time.\n",
    "\n",
    "(Add your solution in the cells provided below.)"
   ]
  },
  {
   "cell_type": "code",
   "execution_count": 11,
   "metadata": {},
   "outputs": [],
   "source": [
    "# ADD YOUR CODE HERE. THE CODE SHOULD PRODUCE A SINGLE FIGURE.\n"
   ]
  },
  {
   "cell_type": "markdown",
   "metadata": {},
   "source": [
    "# ADD YOUR ANSWER TO THE QUESTION HERE\n",
    "\n",
    "Here, I would like to add insight into why the poorer countries have become bigger producers of carbon emissions - due to a lower ability of the government to invest in innovative advancements such as electric cars and less funding available to the capitalistic sector for investment in technologies that reap rewards in the longer term. More immediate necessities are prioritised and unfortunately, research and development in climate and atmospheric fields lag significantly in the areas that require it the most. The poor tend to pay for things that are cheap (pollution producing fuels) and the economically better off tend to make investments with shorter return horizons - potentially due to a relatively lower (globally compared) ability to take risk or the social network effects of a society that is focused on a different set of problems. However, the reasoning for these patterns are based on the subjective experience of the author and any cementing of the driving force behind the plots will need to be investigated with the help of more nuanced datasets studying the social effects prevalent within the populations and subpopulations of geographical regions."
   ]
  },
  {
   "cell_type": "markdown",
   "metadata": {},
   "source": [
    "## Q4. The development of wealth inequality over time.\n",
    "\n",
    "*How has wealth and wealth inequality developed over time?*\n",
    "\n",
    "Make a plot that shows the distribution of GDP per capita across countries at each decade from 1950 to 2020 (i.e., at the years 1950, 1960, 1970, etc.). Only include countries with a population of at least 5 million in 2020.\n",
    "\n",
    "The World Bank defines an income of less than $2.15 per day as extreme poverty, corresponding to an annual GDP per capita of $785. Mark this threshold on your plots. For each year shown, calculate the number of people living in countries with a GDP per capita below this level and annotate this in your figure. Comment on whether this population has grown or shrunk as a proportion of the world’s total population over time.\n",
    "\n",
    "(Add your solution in the cells provided below.)"
   ]
  },
  {
   "cell_type": "code",
   "execution_count": 18,
   "metadata": {},
   "outputs": [],
   "source": [
    "# ADD YOUR CODE HERE. THE CODE SHOULD PRODUCE A SINGLE FIGURE.\n",
    "# Get the column of GDP and divide by population to get GDP PER CAPITA GDP / POPULATION\n",
    "# FILTER FOR COUNTRIES WITH POP > 5000000\n",
    "# Probably making a bar chart to depict the DISTRIBUTION with seaborn : sns.# displot(mpg, x=\"weight\", hue=\"origin\")\n",
    "\n",
    "# Make a line depicting $785 annual income. This is the extreme poverty line. \n",
    "# Depict the number of people in different countries living below this line - perhaps see if I can meddle with the opacity of the bar to represent this. \n",
    "\n",
    "# Put the above in a function so I can change the year iteratively in increments of 10.\n",
    "\n",
    "# Infer: Has the population of extremely poor people shrunk over time ? Draw inference from plot and from numbers. Perhaps by drawing an additional plot to support the conclusion quantitatively and depict visually. "
   ]
  },
  {
   "cell_type": "markdown",
   "metadata": {},
   "source": [
    "# ADD YOUR ANSWER TO THE QUESTION HERE"
   ]
  },
  {
   "cell_type": "markdown",
   "metadata": {},
   "source": [
    "## Before submitting\n",
    "\n",
    "If you have used print statements for debugging purposes, please make sure that you remove them before submitting your notebook. When the submitted notebook runs it should only generate the plots and no additional output.\n",
    "\n",
    "Double check that your notebook runs correctly when cells are run in order from the beginning. You can do this by selecting \"Restart and run all\" from the Kernel menu. \n",
    "\n",
    "Make sure that you save your notebook using the name `COM6018-assignment1-<your-student-username>.ipynb`. For example, if your username is 'ac1jpb' then your notebook should be named `COM6018-assignment1-ac1jpb.ipynb`. \n",
    "\n",
    "To submit, follow the instruction in the accompanying assignment instructions document. For late submission, unless there are extenuating circumstances, standard lateness penalties will be applied."
   ]
  },
  {
   "cell_type": "markdown",
   "metadata": {},
   "source": []
  }
 ],
 "metadata": {
  "kernelspec": {
   "display_name": "Python 3",
   "language": "python",
   "name": "python3"
  },
  "language_info": {
   "codemirror_mode": {
    "name": "ipython",
    "version": 3
   },
   "file_extension": ".py",
   "mimetype": "text/x-python",
   "name": "python",
   "nbconvert_exporter": "python",
   "pygments_lexer": "ipython3",
   "version": "3.12.5"
  },
  "orig_nbformat": 4
 },
 "nbformat": 4,
 "nbformat_minor": 2
}
